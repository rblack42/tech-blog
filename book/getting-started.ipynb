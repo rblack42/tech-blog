{
 "cells": [
  {
   "cell_type": "code",
   "execution_count": 1,
   "id": "21e86b6b-4be5-44ba-b693-f59b175bdad3",
   "metadata": {},
   "outputs": [],
   "source": [
    "# Getting Started"
   ]
  },
  {
   "cell_type": "markdown",
   "id": "e7b7350c-c18f-4014-a4b1-151e41966ba5",
   "metadata": {},
   "source": [
    "This guide assumes you have a computer you want to dedicate to development work, hopefully, one that is fairly new. That system needs to have sufficient space available for your development work. We will be using Python here, and several nice tools that let you document your work as you proceed. We will practice something called *Reproducible Research* in this project. That means other scientists (or developers) can read your notes and produce the same results as you! This is important since your results need to be verifiable if they are to be trusted by others!\n",
    "\n",
    "I am working on a 2017 Macbook Air with an Apple M1 processor. This is a highly portable machine I use when traveling. The machine started life with a fresh install of Somona 14.2. The machine has 8GB of RAM and a 500GB SSD hard disk. The machine is fine for development work, but not for heavy number crunching (I need more RAM!)\n",
    "\n",
    "## Basic Laptop Setup"
   ]
  },
  {
   "cell_type": "markdown",
   "id": "a2ad1c4a-8531-4d03-9c9e-1a8efeac46ef",
   "metadata": {},
   "source": [
    "I taught Computer Science programming courses for many years. Loading (and unloading) student projects on my machine rendered it a mess after each term. To deal with this problem, I established a work pattern where I archived everything on the machine at the end of the term, then rebuilt it from scratch to support the next term. This is a fairly easy process on my Mac machines, much less easy on a Windows machine!"
   ]
  },
  {
   "cell_type": "markdown",
   "id": "cabac35c-477f-4b85-aa4a-30d043b36070",
   "metadata": {},
   "source": [
    "### Fresh Start"
   ]
  },
  {
   "cell_type": "markdown",
   "id": "6856a38e-d224-4d6e-9b57-161e35797f9d",
   "metadata": {},
   "source": [
    "To rebuild a Mac machine, you need to download the version of the operating system you will be using from the *Apple App Store*. If you have an older machine, you probably will not be installing the latest version. You need to access the app store using the machine you will set up to get the right version of the OS. The *App Store* download process will check your machine before downloading\n",
    "\n",
    "The OS will be downloaded and will automatically try to start an install on your system This could be used, but you will keep all old files on your system, and we want a fresh start. You simply close the install window when it asks if you want to proceed. The installer file will end up in the **/Applications** folder.\n",
    "\n",
    "### Install *Homebrew*\n",
    "\n",
    "Assuming that you have no other software installed (other than what Apple says you need to use the machine) we will start by installing a highly useful tool: *Homebrew* which will be used to add helpful tools to our system.\n",
    "\n",
    "Run this command:\n",
    "\n",
    "```{code}\n",
    "/bin/bash -c \"$(curl -fsSL https://raw.githubusercontent.com/Homebrew/install/HEAD/install.sh)\"\n",
    "```\n",
    "\n",
    "This will add a new tool with the name **brew**. We will use this command to install some basic development tools."
   ]
  },
  {
   "cell_type": "code",
   "execution_count": null,
   "id": "1eeb0bea-1f13-4e32-9c79-24c9830bd567",
   "metadata": {},
   "outputs": [],
   "source": []
  }
 ],
 "metadata": {
  "kernelspec": {
   "display_name": "Python 3 (ipykernel)",
   "language": "python",
   "name": "python3"
  },
  "language_info": {
   "codemirror_mode": {
    "name": "ipython",
    "version": 3
   },
   "file_extension": ".py",
   "mimetype": "text/x-python",
   "name": "python",
   "nbconvert_exporter": "python",
   "pygments_lexer": "ipython3",
   "version": "3.11.7"
  }
 },
 "nbformat": 4,
 "nbformat_minor": 5
}
